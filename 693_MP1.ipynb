{
 "cells": [
  {
   "cell_type": "markdown",
   "metadata": {
    "id": "g_TJa2VeHYVl"
   },
   "source": [
    "\n",
    "# Wish.com Product Sales Prediction\n",
    "\n",
    "<div>\n",
    "<img src=\"https://www.googleapis.com/download/storage/v1/b/kaggle-user-content/o/inbox%2F4409738%2Fa89e55ba3a0204c78be0eb154c79a6a0%2FA21ADFF0-AB9D-44E7-ABE0-F2E91CB19E1D.jpeg?generation=1601161987220890&alt=media\" width=\"600\"/>\n",
    "</div>\n",
    "\n",
    "So in this assignment, you will be working with a tabular dataset. The dataset is not clean, and you will need some preprocessing depending on the models of your choice. The dataset is the wish.com product dataset. We collected the data combined with some available data. Some nosies are added to the dataset. The goal is to predict the product sales - in order to understand customer behaviors and factors contributing to the sales.\n",
    "\n",
    "The tabular data comes with many columns. To better understand the problem, here is a visual explaination of the product:\n",
    "\n",
    "<div>\n",
    "  <img src=\"https://www.googleapis.com/download/storage/v1/b/kaggle-user-content/o/inbox%2F1488294%2F308810459ae5232399672ba3eef228ef%2Fannotated-search-results-wish-website.jpg?generation=1598785563117062&alt=media\" width=\"800\"/>\n",
    "</div>\n",
    "\n"
   ]
  },
  {
   "cell_type": "markdown",
   "metadata": {
    "id": "1wrmBARKFYrc"
   },
   "source": [
    "## Upload and read the CSV dataset\n",
    "\n",
    "Following the same approrach we did in class, drag and drop the CSV dataset file (you can find it on mycourse) to the the folder tab on the left panel. Then lets read the csv file into a dataframe."
   ]
  },
  {
   "cell_type": "code",
   "execution_count": 1,
   "metadata": {
    "id": "uOpbBYrYEvUB"
   },
   "outputs": [],
   "source": [
    "# write the code here to import pandas and read the csv file  into a variable\n",
    "# print out the head of the dataframe\n",
    "# (1 mark)\n"
   ]
  },
  {
   "cell_type": "code",
   "execution_count": 2,
   "metadata": {
    "id": "TqO7GUKCRTaD"
   },
   "outputs": [],
   "source": [
    "# print out the column names using the `columns` property\n",
    "# (1 mark)\n",
    "\n"
   ]
  },
  {
   "cell_type": "code",
   "execution_count": 3,
   "metadata": {
    "id": "8bxqwfHsRJ9M"
   },
   "outputs": [],
   "source": [
    "# calculate the average product rating across the dataset\n",
    "# hint: slice on the `rating` column and use the `mean()` function on the column.\n",
    "# In the slide we show examples of the `max()` and `min()` function. `mean` is another\n",
    "# function that you can directly apply on the column the same way as `max()`.\n",
    "# (1 mark)\n",
    "\n"
   ]
  },
  {
   "cell_type": "code",
   "execution_count": 4,
   "metadata": {
    "id": "9SagEEH3Rx-z"
   },
   "outputs": [],
   "source": [
    "# use the shape property to show the shape of the dataframe\n",
    "# (1 mark)\n",
    "\n"
   ]
  },
  {
   "cell_type": "markdown",
   "metadata": {
    "id": "wJDM2YIZSDcv"
   },
   "source": [
    "How many numbers returned by the shape property? What does each number mean? (you can double click this cell and directly enter your answer below)\n",
    "\n",
    "(1 mark)\n",
    "\n",
    "Answer:"
   ]
  },
  {
   "cell_type": "markdown",
   "metadata": {
    "id": "5uzEjcvsOH9s"
   },
   "source": [
    "## Data Cleaning - Imputation"
   ]
  },
  {
   "cell_type": "code",
   "execution_count": 5,
   "metadata": {
    "id": "IUjKBBzGJ6Eb"
   },
   "outputs": [],
   "source": [
    "# use the `isna` and `sum` function to check the number of missing values\n",
    "# (1 mark)\n",
    "\n"
   ]
  },
  {
   "cell_type": "markdown",
   "metadata": {
    "id": "PO9VdhFmJ0yJ"
   },
   "source": [
    "How many columns contain missing values?\n",
    "\n",
    "(you can double click this text cell and directly enter your answer below)\n",
    "\n",
    "(1 mark)\n",
    "\n",
    "Answer:\n",
    "\n"
   ]
  },
  {
   "cell_type": "code",
   "execution_count": 6,
   "metadata": {
    "id": "2AnlnYn8S0Qi"
   },
   "outputs": [],
   "source": [
    "# for the product_color column, replace missing values with color 'green'\n",
    "# for the price column, replace missing values with '$5'\n",
    "# for the rating column, replace missing values with the averaged rating (you calculated in the 3rd question)\n",
    "# for the rating_count column, replace missing values with 0\n",
    "# assign the imputed dataframe into a new variable\n",
    "# hint: use the fillna function with dictionary input (see slides for examples)\n",
    "# (2 marks)\n",
    "\n"
   ]
  },
  {
   "cell_type": "code",
   "execution_count": 7,
   "metadata": {
    "id": "7Ex_Ycl3ULvw"
   },
   "outputs": [],
   "source": [
    "# use the isna and sum function again to verify the missing values have been imputed\n",
    "# for the intended columns\n",
    "# (1 mark)\n",
    "\n"
   ]
  },
  {
   "cell_type": "markdown",
   "metadata": {
    "id": "SFzC2X59OMCy"
   },
   "source": [
    "## Data Cleaning - Transformation"
   ]
  },
  {
   "cell_type": "code",
   "execution_count": 8,
   "metadata": {
    "id": "oSNKWpP8JiVs"
   },
   "outputs": [],
   "source": [
    "# use the `info` function to inspect the data types of your imputed dataframe (1 mark)\n",
    "\n",
    "\n"
   ]
  },
  {
   "cell_type": "markdown",
   "metadata": {
    "id": "f-fTMc1kUuMS"
   },
   "source": [
    "For the price, retail_price, and units_sold columns, what are their current data types? But what data types would you expect given the problem/column names? (you can double click this cell and directly enter your answer below)\n",
    "\n",
    "(1 mark)\n",
    "\n",
    "Answer:"
   ]
  },
  {
   "cell_type": "code",
   "execution_count": 9,
   "metadata": {
    "id": "N9RJqmLlWUgk"
   },
   "outputs": [],
   "source": [
    "# following the examples we had in the slide,\n",
    "# transform the price column\n",
    "# into numbers and add it to the imputed dataframe as new columns\n",
    "# (hint: use the column-based transformation example where we can replace unwanted\n",
    "# string values by an empty string)\n",
    "# (1 mark)\n",
    "\n",
    "\n"
   ]
  },
  {
   "cell_type": "code",
   "execution_count": 10,
   "metadata": {
    "id": "dHTStOQ3XP75"
   },
   "outputs": [],
   "source": [
    "# following the examples we had in the slide,\n",
    "# transform the retail_price column\n",
    "# into numbers and add it to the imputed dataframe as new columns\n",
    "# (hint: use the column-based transformation example where we can replace unwanted\n",
    "# string values by an empty string)\n",
    "# (1 mark)\n",
    "\n",
    "\n"
   ]
  },
  {
   "cell_type": "code",
   "execution_count": 11,
   "metadata": {
    "id": "p932n9tZXQZa"
   },
   "outputs": [],
   "source": [
    "# following the examples we had in the slide,\n",
    "# transform the units_sold column\n",
    "# into numbers and add it to the imputed dataframe as new columns\n",
    "# (hint: use the column-based transformation example where we can replace unwanted\n",
    "# string values by an empty string)\n",
    "# (1 mark)\n",
    "\n",
    "\n",
    "\n"
   ]
  },
  {
   "cell_type": "code",
   "execution_count": 12,
   "metadata": {
    "id": "PfFhk20EZ6fr"
   },
   "outputs": [],
   "source": [
    "# use the info function again to show that the newly added columns are now becomes\n",
    "# numeric\n",
    "# (1 mark)\n",
    "\n"
   ]
  },
  {
   "cell_type": "markdown",
   "metadata": {
    "id": "goR5ZyjEOTEj"
   },
   "source": [
    "## Data Cleaning - Outliers"
   ]
  },
  {
   "cell_type": "code",
   "execution_count": 13,
   "metadata": {
    "id": "YdnRSD9dJZ1l"
   },
   "outputs": [],
   "source": [
    "# use the describe function of the dataframe to investigate the numeric features\n",
    "# (1 mark)\n",
    "\n",
    "\n"
   ]
  },
  {
   "cell_type": "markdown",
   "metadata": {
    "id": "uE5Ax7pZaUFv"
   },
   "source": [
    "Looking at the rating (supposed to be 1 to 6), does the description information, especiall min/max, make sense to you? if not, what is the problem? (you can double click this cell and directly enter your answer below)\n",
    "\n",
    "(1 mark)\n",
    "\n",
    "Answer:\n"
   ]
  },
  {
   "cell_type": "code",
   "execution_count": 14,
   "metadata": {
    "id": "uuyMY9IeKzEk"
   },
   "outputs": [],
   "source": [
    "# print the outliers that have unrealistic rating score:\n",
    "# (hint use loc with selection conditions - rating less than 0)\n",
    "# (1 mark)\n",
    "\n",
    "\n"
   ]
  },
  {
   "cell_type": "code",
   "execution_count": 15,
   "metadata": {
    "id": "ynjzbq_xbHB3"
   },
   "outputs": [],
   "source": [
    "# remove the outlier from the dataset\n",
    "# (use the drop function with the statement you had from last cell - see slides 31 for example )\n",
    "# (1 mark)\n",
    "\n"
   ]
  },
  {
   "cell_type": "markdown",
   "metadata": {
    "id": "0FijN_G6dvVg"
   },
   "source": [
    "\n",
    "\n",
    "## Meme competition !!!!!!\n",
    "\n",
    "Please contribute your meme here: You can copy and past the meme directly in the comment box.\n",
    "\n",
    "https://github.com/CISC-873/Information-2022/issues/4\n",
    "\n",
    "## Reference:\n",
    "https://www.kaggle.com/datasets/jmmvutu/summer-products-and-sales-in-ecommerce-wish\n"
   ]
  }
 ],
 "metadata": {
  "colab": {
   "provenance": [],
   "toc_visible": true
  },
  "kernelspec": {
   "display_name": "Python 3 (ipykernel)",
   "language": "python",
   "name": "python3"
  },
  "language_info": {
   "codemirror_mode": {
    "name": "ipython",
    "version": 3
   },
   "file_extension": ".py",
   "mimetype": "text/x-python",
   "name": "python",
   "nbconvert_exporter": "python",
   "pygments_lexer": "ipython3",
   "version": "3.10.12"
  }
 },
 "nbformat": 4,
 "nbformat_minor": 4
}
