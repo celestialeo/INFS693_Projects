{
 "cells": [
  {
   "cell_type": "markdown",
   "metadata": {
    "id": "g_TJa2VeHYVl"
   },
   "source": [
    "\n",
    "# Wish.com Product Sales Prediction\n",
    "\n",
    "<div>\n",
    "<img src=\"https://www.googleapis.com/download/storage/v1/b/kaggle-user-content/o/inbox%2F4409738%2Fa89e55ba3a0204c78be0eb154c79a6a0%2FA21ADFF0-AB9D-44E7-ABE0-F2E91CB19E1D.jpeg?generation=1601161987220890&alt=media\" width=\"600\"/>\n",
    "</div>\n",
    "\n",
    "So in this assignment, you will be working with a tabular dataset. The dataset is not clean, and you will need some preprocessing depending on the models of your choice. The dataset is the wish.com product dataset. We collected the data combined with some available data. Some nosies are added to the dataset. The goal is to predict the product sales - in order to understand customer behaviors and factors contributing to the sales.\n",
    "\n",
    "The tabular data comes with many columns. To better understand the problem, here is a visual explaination of the product:\n",
    "\n",
    "<div>\n",
    "  <img src=\"https://www.googleapis.com/download/storage/v1/b/kaggle-user-content/o/inbox%2F1488294%2F308810459ae5232399672ba3eef228ef%2Fannotated-search-results-wish-website.jpg?generation=1598785563117062&alt=media\" width=\"800\"/>\n",
    "</div>\n",
    "\n"
   ]
  },
  {
   "cell_type": "markdown",
   "metadata": {
    "id": "1wrmBARKFYrc"
   },
   "source": [
    "## Data Cleaning and Preprocessing\n",
    "\n",
    "We have pre-processed the dataset during the first assignment. In this assignment, we will continue using the pre-processed dataset. You can download the pre-processed dataset on the assignment webpage. The dataset was produced following the steps outlined in the last assignment, and then saved using the `to_csv` function of the cleaned dataframe."
   ]
  },
  {
   "cell_type": "code",
   "execution_count": 1,
   "metadata": {
    "id": "uOpbBYrYEvUB"
   },
   "outputs": [
    {
     "ename": "ModuleNotFoundError",
     "evalue": "No module named 'pandas'",
     "output_type": "error",
     "traceback": [
      "\u001b[0;31m---------------------------------------------------------------------------\u001b[0m",
      "\u001b[0;31mModuleNotFoundError\u001b[0m                       Traceback (most recent call last)",
      "Cell \u001b[0;32mIn[1], line 7\u001b[0m\n\u001b[1;32m      1\u001b[0m \u001b[38;5;66;03m# write the code here to import pandas and read the csv file  into a variable\u001b[39;00m\n\u001b[1;32m      2\u001b[0m \u001b[38;5;66;03m# use the info function to inspect columns and the head function to inspect\u001b[39;00m\n\u001b[1;32m      3\u001b[0m \u001b[38;5;66;03m# some samples\u001b[39;00m\n\u001b[1;32m      4\u001b[0m \u001b[38;5;66;03m# (1 mark)\u001b[39;00m\n\u001b[0;32m----> 7\u001b[0m \u001b[38;5;28;01mimport\u001b[39;00m \u001b[38;5;21;01mpandas\u001b[39;00m \u001b[38;5;28;01mas\u001b[39;00m \u001b[38;5;21;01mpd\u001b[39;00m\n\u001b[1;32m      9\u001b[0m \u001b[38;5;66;03m# Specify the file path\u001b[39;00m\n\u001b[1;32m     10\u001b[0m file_path \u001b[38;5;241m=\u001b[39m \u001b[38;5;124m'\u001b[39m\u001b[38;5;124m/content/a1_done.csv\u001b[39m\u001b[38;5;124m'\u001b[39m\n",
      "\u001b[0;31mModuleNotFoundError\u001b[0m: No module named 'pandas'"
     ]
    }
   ],
   "source": [
    "# write the code here to import pandas and read the csv file  into a variable\n",
    "# use the info function to inspect columns and the head function to inspect\n",
    "# some samples\n",
    "# (1 mark)\n",
    "\n",
    "\n",
    "import pandas as pd\n",
    "\n",
    "# Specify the file path\n",
    "file_path = '/content/a1_done.csv'\n",
    "\n",
    "# Load the CSV file into a pandas DataFrame\n",
    "df = pd.read_csv(file_path)\n",
    "\n",
    "# Display the first few rows of the dataset\n",
    "df.head()\n",
    "\n",
    "\n",
    "df = df.info()\n",
    "\n"
   ]
  },
  {
   "cell_type": "code",
   "execution_count": 1,
   "metadata": {
    "id": "ZNB_lMfk2TKW"
   },
   "outputs": [
    {
     "ename": "SyntaxError",
     "evalue": "invalid syntax (1169549852.py, line 8)",
     "output_type": "error",
     "traceback": [
      "\u001b[0;36m  Cell \u001b[0;32mIn[1], line 8\u001b[0;36m\u001b[0m\n\u001b[0;31m    df_numeric =\u001b[0m\n\u001b[0m                ^\u001b[0m\n\u001b[0;31mSyntaxError\u001b[0m\u001b[0;31m:\u001b[0m invalid syntax\n"
     ]
    }
   ],
   "source": [
    "# There are still some columns that we didn't transform last time.\n",
    "# So lets select only the numeric columns into a new dataframe, named `df_numeric`,\n",
    "# using the `select_dtypes` function of the dataframe you have with 'number' argument.\n",
    "# Then, use the info function again to inspect column types\n",
    "# (hint: we also use the select_dtypes function when working on correlation heatmap)\n",
    "# (1 mark)\n",
    "\n",
    "df_numeric ="
   ]
  },
  {
   "cell_type": "markdown",
   "metadata": {
    "id": "Pmi-MHuumNME"
   },
   "source": [
    "## Visualization - Exploration"
   ]
  },
  {
   "cell_type": "code",
   "execution_count": null,
   "metadata": {
    "id": "pAHf8prjmE4o"
   },
   "outputs": [],
   "source": [
    "# Scatter plot new_price vs new_units_sold\n",
    "# (1 mark)\n"
   ]
  },
  {
   "cell_type": "markdown",
   "metadata": {
    "id": "czqGb8JYnnnD"
   },
   "source": [
    "Describe your observation of the plot\n",
    "\n",
    "(double-click here to enter your answer)\n",
    "\n",
    "(1 mark - open question, there is no correct/incorrect answer)\n",
    "\n",
    "Answer:\n"
   ]
  },
  {
   "cell_type": "code",
   "execution_count": null,
   "metadata": {
    "id": "8uJPu8bSoSAQ"
   },
   "outputs": [],
   "source": [
    "# Histogram plot of rating column\n",
    "# (1 mark)\n"
   ]
  },
  {
   "cell_type": "code",
   "execution_count": null,
   "metadata": {
    "id": "XJW3NZvJosCb"
   },
   "outputs": [],
   "source": [
    "# Box plot of rating column\n",
    "# (1 mark)\n"
   ]
  },
  {
   "cell_type": "markdown",
   "metadata": {
    "id": "mn4P47SdoepN"
   },
   "source": [
    "Describe your observations of the two plots above\n",
    "\n",
    "(double-click here to enter your answer)\n",
    "\n",
    "(2 mark - open question, there is no correct/incorrect answer)\n",
    "\n",
    "Answer:\n"
   ]
  },
  {
   "cell_type": "code",
   "execution_count": null,
   "metadata": {
    "id": "uaRWWJq6pPhR"
   },
   "outputs": [],
   "source": [
    "# create a correlation heatmap for the `df_numeric` dataframe\n",
    "# hint: use `corr` function to calculate correlations, and then\n",
    "# the `heatmap` function in seaborn package for visualization\n",
    "\n",
    "# (2 marks)\n",
    "\n",
    "import seaborn as sns\n"
   ]
  },
  {
   "cell_type": "markdown",
   "metadata": {
    "id": "1J99zF7wqFVj"
   },
   "source": [
    "What does a correlation value of -1 means? What does a correlation value of 1 means? What does a correlation value of 0 means?\n",
    "\n",
    "(double-click here to enter your answer)\n",
    "\n",
    "(3 marks)\n",
    "\n",
    "Answer:\n"
   ]
  },
  {
   "cell_type": "markdown",
   "metadata": {
    "id": "4IbAYNVJqqgU"
   },
   "source": [
    "Assuming that we are going to predict the `new_units_sold` attribute, describe your observations of its correlation to the other features.\n",
    "\n",
    "(double-click here to enter your answer)\n",
    "\n",
    "(1 mark - open question, there is no correct/incorrect answer)\n",
    "\n",
    "Answer:"
   ]
  },
  {
   "cell_type": "markdown",
   "metadata": {
    "id": "3srklLQwq6OM"
   },
   "source": [
    "## Inductive Modeling"
   ]
  },
  {
   "cell_type": "code",
   "execution_count": null,
   "metadata": {
    "id": "I4rMO5wXrAte"
   },
   "outputs": [],
   "source": [
    "# Now, lets start building models!\n",
    "# First, we need a training and a testing set\n",
    "# use the `train_test_split` function from sklearn\n",
    "# to split your `df_numeric` dataframe.\n",
    "# Use 20% of the data for testing.\n",
    "\n",
    "# (2 marks)\n",
    "\n",
    "from sklearn.model_selection import train_test_split\n",
    "\n"
   ]
  },
  {
   "cell_type": "code",
   "execution_count": null,
   "metadata": {
    "id": "rTN2ut64ra8D"
   },
   "outputs": [],
   "source": [
    "# inspect your training and testing dataframe size using the shape function\n",
    "\n",
    "# (1 marks)\n",
    "\n"
   ]
  },
  {
   "cell_type": "code",
   "execution_count": null,
   "metadata": {
    "id": "EWYkUCCTriHB"
   },
   "outputs": [],
   "source": [
    "# Now lets select features and target attribute\n",
    "# Use rating, rating_count, uses_ad_boosts, countries_shipped_to attributes as features\n",
    "# Use new_units_sold as target\n",
    "# Prepare training features dataframe, testing features dataframe,\n",
    "# training target, and testing target\n",
    "\n",
    "# (2 marks)\n",
    "\n"
   ]
  },
  {
   "cell_type": "code",
   "execution_count": null,
   "metadata": {
    "id": "rEMTvsF9s2IW"
   },
   "outputs": [],
   "source": [
    "# create an LinearRegression instance\n",
    "# and use its `fit` function to train the model with\n",
    "# training features and training target as argument\n",
    "\n",
    "# (2 marks)\n",
    "\n",
    "from sklearn.linear_model import LinearRegression\n"
   ]
  },
  {
   "cell_type": "code",
   "execution_count": null,
   "metadata": {
    "id": "TgIggNgItRzg"
   },
   "outputs": [],
   "source": [
    "# Evaluate the trained model on the testing set:\n",
    "# First, use the `predict` function of your trained model on testing features to obtain the predicted values\n",
    "# Then, use the `mean_absolute_error` function to calcuate the difference between your predicted values\n",
    "# and the testing target\n",
    "\n",
    "# (2 marks)\n",
    "\n",
    "from sklearn.metrics import mean_absolute_error\n",
    "\n"
   ]
  },
  {
   "cell_type": "markdown",
   "metadata": {
    "id": "0FijN_G6dvVg"
   },
   "source": [
    "\n",
    "\n",
    "## Meme competition !!!!!!\n",
    "\n",
    "Please contribute your meme here: You can copy and past the meme directly in the comment box.\n",
    "\n",
    "https://github.com/CISC-873/Information-2022/issues/4\n",
    "\n",
    "## Reference:\n",
    "https://www.kaggle.com/datasets/jmmvutu/summer-products-and-sales-in-ecommerce-wish\n"
   ]
  }
 ],
 "metadata": {
  "colab": {
   "provenance": [],
   "toc_visible": true
  },
  "kernelspec": {
   "display_name": "Python 3 (ipykernel)",
   "language": "python",
   "name": "python3"
  },
  "language_info": {
   "codemirror_mode": {
    "name": "ipython",
    "version": 3
   },
   "file_extension": ".py",
   "mimetype": "text/x-python",
   "name": "python",
   "nbconvert_exporter": "python",
   "pygments_lexer": "ipython3",
   "version": "3.10.12"
  }
 },
 "nbformat": 4,
 "nbformat_minor": 4
}
